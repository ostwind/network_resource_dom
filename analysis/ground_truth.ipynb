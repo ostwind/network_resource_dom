{
 "cells": [
  {
   "cell_type": "code",
   "execution_count": 145,
   "metadata": {
    "collapsed": true
   },
   "outputs": [],
   "source": [
    "% matplotlib inline\n",
    "import matplotlib.pyplot as plt\n",
    "\n",
    "import numpy as np\n",
    "import pandas as pd\n",
    "import random as r\n",
    "import operator as o\n",
    "\n",
    "r.seed(0)"
   ]
  },
  {
   "cell_type": "code",
   "execution_count": 142,
   "metadata": {
    "collapsed": true
   },
   "outputs": [],
   "source": [
    "#MODEL PARAMETERS\n",
    "\n",
    "#VERTEX WEIGHTS SAMPLED FROM THIS DISTRIBUTION\n",
    "weights = [x for x in range(10)]\n",
    "\n",
    "#POSSIBLE NUMBER OF NEIGHBORS\n",
    "pos_nhbr = [0, 1, 2]\n",
    "\n",
    "#\n",
    "threshold = 20\n",
    "\n",
    "\n"
   ]
  },
  {
   "cell_type": "code",
   "execution_count": 163,
   "metadata": {
    "collapsed": false
   },
   "outputs": [
    {
     "data": {
      "text/html": [
       "<div>\n",
       "<table border=\"1\" class=\"dataframe\">\n",
       "  <thead>\n",
       "    <tr style=\"text-align: right;\">\n",
       "      <th></th>\n",
       "      <th>v</th>\n",
       "      <th>status</th>\n",
       "      <th>root</th>\n",
       "      <th>weight</th>\n",
       "      <th>sum_weight</th>\n",
       "      <th>comp</th>\n",
       "    </tr>\n",
       "  </thead>\n",
       "  <tbody>\n",
       "    <tr>\n",
       "      <th>0</th>\n",
       "      <td>0.0</td>\n",
       "      <td>gp</td>\n",
       "      <td>0.0</td>\n",
       "      <td>5.0</td>\n",
       "      <td>27.0</td>\n",
       "      <td>1,0,4,6,7</td>\n",
       "    </tr>\n",
       "    <tr>\n",
       "      <th>1</th>\n",
       "      <td>1.0</td>\n",
       "      <td>gp</td>\n",
       "      <td>0.0</td>\n",
       "      <td>9.0</td>\n",
       "      <td>27.0</td>\n",
       "      <td>1,0,4,6,7</td>\n",
       "    </tr>\n",
       "    <tr>\n",
       "      <th>2</th>\n",
       "      <td>2.0</td>\n",
       "      <td>gp</td>\n",
       "      <td>2.0</td>\n",
       "      <td>4.0</td>\n",
       "      <td>24.0</td>\n",
       "      <td>13,8,18,2,10,15,16,19</td>\n",
       "    </tr>\n",
       "    <tr>\n",
       "      <th>3</th>\n",
       "      <td>3.0</td>\n",
       "      <td>gp</td>\n",
       "      <td>3.0</td>\n",
       "      <td>7.0</td>\n",
       "      <td>22.0</td>\n",
       "      <td>5,9,3</td>\n",
       "    </tr>\n",
       "    <tr>\n",
       "      <th>4</th>\n",
       "      <td>4.0</td>\n",
       "      <td>gp</td>\n",
       "      <td>4.0</td>\n",
       "      <td>4.0</td>\n",
       "      <td>27.0</td>\n",
       "      <td>1,0,4,6,7</td>\n",
       "    </tr>\n",
       "  </tbody>\n",
       "</table>\n",
       "</div>"
      ],
      "text/plain": [
       "     v status  root  weight  sum_weight                   comp\n",
       "0  0.0     gp   0.0     5.0        27.0              1,0,4,6,7\n",
       "1  1.0     gp   0.0     9.0        27.0              1,0,4,6,7\n",
       "2  2.0     gp   2.0     4.0        24.0  13,8,18,2,10,15,16,19\n",
       "3  3.0     gp   3.0     7.0        22.0                  5,9,3\n",
       "4  4.0     gp   4.0     4.0        27.0              1,0,4,6,7"
      ]
     },
     "execution_count": 163,
     "metadata": {},
     "output_type": "execute_result"
    }
   ],
   "source": [
    "def list_str_conv(X):\n",
    "    if type(X) == str and len(X)>0:  \n",
    "        return list( map(int, X.split(\",\")) )\n",
    "    else:\n",
    "        raise Exception('bad')\n",
    "\n",
    "def dg():\n",
    "    return list(g[ g['status'] =='digraph'  ].index)\n",
    "    \n",
    "def add_v(g):\n",
    "    digraph = dg()\n",
    "    v = len(g)\n",
    "    w = r.choice(weights)\n",
    "    num_nhbr = r.choice(pos_nhbr)\n",
    "    \n",
    "    g.loc[v] = [v, 'digraph', v, w, w, str(v) ]\n",
    "    \n",
    "    #done if no neighbors.\n",
    "    if num_nhbr==0:\n",
    "        return\n",
    "    \n",
    "    #collect neighbors in string\n",
    "    j = 0\n",
    "    c_list = [v]\n",
    "    \n",
    "    for n in range(  num_nhbr  ): \n",
    "        i = r.choice(digraph) \n",
    "        j+=1\n",
    "        if j ==1:\n",
    "            not_v = i\n",
    "        c_list.append(i)\n",
    "   \n",
    "    g.set_value(v, 'root', g.loc[not_v]['root'] ) \n",
    "    \n",
    "    # we go to every neighbor of v, take their component\n",
    "    # make a big union of all components of neighbors of v\n",
    "    new_comp = g.ix[c_list, 'comp'].str.cat(sep=',')\n",
    "    new_comp = list_str_conv(new_comp) \n",
    "    \n",
    "    # convert list of int to list of strs, then take only the unique ones\n",
    "    new_comp =   list( set(   list(map(str, new_comp))     )        )\n",
    "    # convert it back to str so we may record it in our table\n",
    "    c_str = ','.join(new_comp)\n",
    "    \n",
    "    #convert it back to list so we may do table look-up\n",
    "    new_comp = list_str_conv(c_str)\n",
    "    \n",
    "    # update components and component weights\n",
    "    w += g.loc[not_v]['sum_weight']\n",
    "    g.ix[new_comp, 'sum_weight'] = w\n",
    "    g.ix[new_comp, 'comp'] = c_str\n",
    "    \n",
    "    #if (g['sum_weight'] > threshold).any():\n",
    "    g.ix[ g.sum_weight >threshold, 'status'] = 'gp'\n",
    "\n",
    "\n",
    "# initialize w/ 1 vertex\n",
    "g = pd.DataFrame(columns=['v', 'status', 'root',  'weight', 'sum_weight', 'comp'] )\n",
    "ini_weight = r.choice(weights)\n",
    "g.loc[0] = [0, 'digraph', 0, ini_weight, ini_weight, '0']    \n",
    "\n",
    "\n",
    "#e.g. we track value of largest component, see plots below\n",
    "stat_to_track1 = []\n",
    "\n",
    "#we track number of GPs\n",
    "stat_to_track2 = []\n",
    "\n",
    "for i in range(100):\n",
    "    add_v(g)\n",
    "    stat_to_track.append(g['sum_weight'].max() )\n",
    "    stat_to_track2.append(  (g['status'] == 'gp').sum()  )\n",
    "g.head()"
   ]
  },
  {
   "cell_type": "code",
   "execution_count": 164,
   "metadata": {
    "collapsed": false
   },
   "outputs": [
    {
     "data": {
      "text/plain": [
       "<matplotlib.axes._subplots.AxesSubplot at 0xff2313908>"
      ]
     },
     "execution_count": 164,
     "metadata": {},
     "output_type": "execute_result"
    },
    {
     "data": {
      "image/png": "[encoded data removed]",
      "text/plain": [
       "<matplotlib.figure.Figure at 0xff22f4588>"
      ]
     },
     "metadata": {},
     "output_type": "display_data"
    }
   ],
   "source": [
    "#distribution of vertex weights in the graph, we should expect ~10 vertices for 10 values 0 to 9. \n",
    "g['weight'].hist()"
   ]
  },
  {
   "cell_type": "code",
   "execution_count": 165,
   "metadata": {
    "collapsed": false
   },
   "outputs": [
    {
     "data": {
      "text/plain": [
       "[<matplotlib.lines.Line2D at 0xff2397470>]"
      ]
     },
     "execution_count": 165,
     "metadata": {},
     "output_type": "execute_result"
    },
    {
     "data": {
      "image/png": "[encoded data removed]",
      "text/plain": [
       "<matplotlib.figure.Figure at 0xff2328c88>"
      ]
     },
     "metadata": {},
     "output_type": "display_data"
    }
   ],
   "source": [
    "#this is largest component value in the graph as vertices are added\n",
    "#i don't get why it oscillates, it should plateau...\n",
    "\n",
    "plt.plot(range(len(stat_to_track)) , stat_to_track  )"
   ]
  },
  {
   "cell_type": "code",
   "execution_count": 166,
   "metadata": {
    "collapsed": false
   },
   "outputs": [
    {
     "data": {
      "text/plain": [
       "[<matplotlib.lines.Line2D at 0xff3445358>]"
      ]
     },
     "execution_count": 166,
     "metadata": {},
     "output_type": "execute_result"
    },
    {
     "data": {
      "image/png": "[encoded data removed]",
      "text/plain": [
       "<matplotlib.figure.Figure at 0xff23b56a0>"
      ]
     },
     "metadata": {},
     "output_type": "display_data"
    }
   ],
   "source": [
    "#LOOK MA, NUMBER OF GATEKEEPERS ROUGHLY LINEAR W/ SIZE\n",
    "\n",
    "plt.plot(range(len(stat_to_track2)) , stat_to_track2  )"
   ]
  },
  {
   "cell_type": "code",
   "execution_count": null,
   "metadata": {
    "collapsed": false
   },
   "outputs": [],
   "source": []
  },
  {
   "cell_type": "code",
   "execution_count": null,
   "metadata": {
    "collapsed": true
   },
   "outputs": [],
   "source": []
  }
 ],
 "metadata": {
  "anaconda-cloud": {},
  "kernelspec": {
   "display_name": "Python [conda root]",
   "language": "python",
   "name": "conda-root-py"
  },
  "language_info": {
   "codemirror_mode": {
    "name": "ipython",
    "version": 3
   },
   "file_extension": ".py",
   "mimetype": "text/x-python",
   "name": "python",
   "nbconvert_exporter": "python",
   "pygments_lexer": "ipython3",
   "version": "3.5.2"
  }
 },
 "nbformat": 4,
 "nbformat_minor": 1
}
